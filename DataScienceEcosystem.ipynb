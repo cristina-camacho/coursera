{
 "cells": [
  {
   "cell_type": "markdown",
   "id": "aeeaa44b",
   "metadata": {},
   "source": [
    "# Data Science Tools ans Ecosystem"
   ]
  },
  {
   "cell_type": "markdown",
   "id": "c229e96e",
   "metadata": {},
   "source": [
    "In this notebook, Data Science Tools and Ecosystem are summarized."
   ]
  },
  {
   "cell_type": "markdown",
   "id": "fb409b61",
   "metadata": {},
   "source": [
    "**Objectives:**\n",
    "- List popular languages for Data Science\n",
    "- List commonly used libraries\n",
    "- Create a table with some Data Science tools\n",
    "- Evaluate basic arithmetic code"
   ]
  },
  {
   "cell_type": "markdown",
   "id": "2227aeee",
   "metadata": {},
   "source": [
    "Some of the popular languages that Data Scientists use are:\n",
    "1. Pyhton\n",
    "2. R language\n",
    "3. SQL"
   ]
  },
  {
   "cell_type": "markdown",
   "id": "f63a2112",
   "metadata": {},
   "source": [
    "Some of the commonly used libraries used by Data Scientists include:\n",
    "1. Matplotlib\n",
    "2. NumPy\n",
    "3. Pandas\n",
    "4. Scikit"
   ]
  },
  {
   "cell_type": "markdown",
   "id": "21772435",
   "metadata": {},
   "source": [
    "|Data science tools|\n",
    "--\n",
    "|RStudio|\n",
    "|Jupyter|\n",
    "|Spyder|"
   ]
  },
  {
   "cell_type": "markdown",
   "id": "de390c19",
   "metadata": {},
   "source": [
    "### Below are a few examples of evaluating arithmetic expressions in Python"
   ]
  },
  {
   "cell_type": "code",
   "execution_count": 1,
   "id": "8984507d",
   "metadata": {},
   "outputs": [
    {
     "data": {
      "text/plain": [
       "17"
      ]
     },
     "execution_count": 1,
     "metadata": {},
     "output_type": "execute_result"
    }
   ],
   "source": [
    "(3*4)+5 #This is a simple arithmetic expression to multiply then add integers"
   ]
  },
  {
   "cell_type": "code",
   "execution_count": 2,
   "id": "05066ecb",
   "metadata": {},
   "outputs": [
    {
     "data": {
      "text/plain": [
       "3.3333333333333335"
      ]
     },
     "execution_count": 2,
     "metadata": {},
     "output_type": "execute_result"
    }
   ],
   "source": [
    "#This will convert 200 minutes to hours by dividing by 60\n",
    "200/60"
   ]
  },
  {
   "cell_type": "markdown",
   "id": "3faa2da7",
   "metadata": {},
   "source": [
    "## Author\n",
    "Cristina Camacho"
   ]
  }
 ],
 "metadata": {
  "kernelspec": {
   "display_name": "Python 3 (ipykernel)",
   "language": "python",
   "name": "python3"
  },
  "language_info": {
   "codemirror_mode": {
    "name": "ipython",
    "version": 3
   },
   "file_extension": ".py",
   "mimetype": "text/x-python",
   "name": "python",
   "nbconvert_exporter": "python",
   "pygments_lexer": "ipython3",
   "version": "3.11.5"
  }
 },
 "nbformat": 4,
 "nbformat_minor": 5
}
